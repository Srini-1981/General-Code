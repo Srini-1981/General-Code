{
 "cells": [
  {
   "cell_type": "markdown",
   "id": "82071825",
   "metadata": {},
   "source": [
    "#### Understand Back Propagation and Gradient Descent with simple python code\n",
    "* This notebook is written and prepared for an assigment submission with one of the product based company\n",
    "\n",
    "* Lets write a simple python back propagation and gradient descent code for a quadratic equation representating: f(x) = x²-40x+4 to get some understanding.\n",
    "    * f(x) = x²-40x+4 # Equation \n",
    "    * f′(x) = 2x-40 # Derivative\n",
    "    * 2x-40 = 0\n",
    "    * 2x = 40\n",
    "    * x = 20\n",
    "    * The minima has to occur at 20"
   ]
  },
  {
   "cell_type": "code",
   "execution_count": 1,
   "id": "a935965d",
   "metadata": {},
   "outputs": [],
   "source": [
    "# Mathematical representation of the derivate for an equation x²-40x+4\n",
    "def opt_derivative(x):\n",
    "    return 2*x-40\n",
    "\n",
    "# Simple back propagation code\n",
    "def back_propagation(cur_x=3, lr=0.0001, precision=0.00001, max_iters=10000):\n",
    "    prev_step_size = 1\n",
    "    iters = 0\n",
    "    while prev_step_size > precision and iters < max_iters:\n",
    "        # Store current x value in prev_x\n",
    "        prev_x = cur_x \n",
    "        # GradientDescent or parameter updation\n",
    "        cur_x = cur_x - lr*opt_derivative(prev_x)\n",
    "        # Change in x\n",
    "        prev_step_size = abs(cur_x - prev_x) \n",
    "        # Iteration count\n",
    "        iters = iters+1 \n",
    "    \n",
    "        # Print iterations\n",
    "        if  iters % 1000 == 0:\n",
    "            print(\"Iteration {}\" .format(iters))\n",
    "            print(\"X value is {}\" .format(cur_x)) \n",
    "    \n",
    "    return cur_x, iters"
   ]
  },
  {
   "cell_type": "code",
   "execution_count": 2,
   "id": "0ea6ff6f",
   "metadata": {},
   "outputs": [
    {
     "name": "stdout",
     "output_type": "stream",
     "text": [
      "The local minima occured at 19.99951520723472 with iterations 518\n"
     ]
    }
   ],
   "source": [
    "# cur_x - Kind of weight initialization or random starting point to reach minima\n",
    "# A small step reaching towards the minima\n",
    "# The expectation of the precision. For example: 19.9999\n",
    "# Number of iterations to reach the minima\n",
    "minima, iterations = back_propagation(cur_x=3, lr=0.01, precision=0.00001, max_iters=10000)  \n",
    "print(\"The local minima occured at {} with iterations {}\" .format(minima, iterations)) "
   ]
  },
  {
   "cell_type": "code",
   "execution_count": 3,
   "id": "e2018e6f",
   "metadata": {},
   "outputs": [
    {
     "name": "stdout",
     "output_type": "stream",
     "text": [
      "Iteration 1000\n",
      "X value is 17.703903118406394\n",
      "Iteration 2000\n",
      "X value is 19.68987877119623\n",
      "Iteration 3000\n",
      "X value is 19.95811362433106\n",
      "Iteration 4000\n",
      "X value is 19.994342636673224\n",
      "The local minima occured at 19.995013013736507 with iterations 4063\n"
     ]
    }
   ],
   "source": [
    "# Increase in learning rate increases the iteration size\n",
    "minima, iterations = back_propagation(cur_x=3, lr=0.001, precision=0.00001, max_iters=10000)  \n",
    "print(\"The local minima occured at {} with iterations {}\" .format(minima, iterations)) "
   ]
  },
  {
   "cell_type": "code",
   "execution_count": 4,
   "id": "d1ce9112",
   "metadata": {},
   "outputs": [
    {
     "name": "stdout",
     "output_type": "stream",
     "text": [
      "Iteration 1000\n",
      "X value is 22.025967836700232\n",
      "Iteration 2000\n",
      "X value is 20.273636378356247\n",
      "Iteration 3000\n",
      "X value is 20.03695856676673\n",
      "Iteration 4000\n",
      "X value is 20.00499179117063\n",
      "The local minima occured at 20.00498180758829 with iterations 4001\n"
     ]
    }
   ],
   "source": [
    "# Testing with the value higher than the minima\n",
    "minima, iterations = back_propagation(cur_x=35, lr=0.001, precision=0.00001, max_iters=10000)  \n",
    "print(\"The local minima occured at {} with iterations {}\" .format(minima, iterations)) "
   ]
  },
  {
   "cell_type": "code",
   "execution_count": 5,
   "id": "16fbe048",
   "metadata": {},
   "outputs": [
    {
     "name": "stdout",
     "output_type": "stream",
     "text": [
      "Iteration 1000\n",
      "X value is 19.181285623556846\n",
      "Iteration 2000\n",
      "X value is 19.3297067698053\n",
      "Iteration 3000\n",
      "X value is 19.45122129600713\n",
      "Iteration 4000\n",
      "X value is 19.550706985555223\n",
      "Iteration 5000\n",
      "X value is 19.632157349838604\n",
      "Iteration 6000\n",
      "X value is 19.698841934043916\n",
      "Iteration 7000\n",
      "X value is 19.75343756181994\n",
      "Iteration 8000\n",
      "X value is 19.798135787171173\n",
      "Iteration 9000\n",
      "X value is 19.834730866867726\n",
      "Iteration 10000\n",
      "X value is 19.864691784722307\n",
      "The local minima occured at 19.864691784722307 with iterations 10000\n"
     ]
    }
   ],
   "source": [
    "# This could not complete even if we start the x at 19 because of the low learning rate \n",
    "minima, iterations = back_propagation(cur_x=19, lr=0.0001, precision=0.00001, max_iters=10000)  \n",
    "print(\"The local minima occured at {} with iterations {}\" .format(minima, iterations)) "
   ]
  },
  {
   "cell_type": "code",
   "execution_count": 6,
   "id": "149f7092",
   "metadata": {},
   "outputs": [
    {
     "name": "stdout",
     "output_type": "stream",
     "text": [
      "The local minima occured at 20.0 with iterations 2\n"
     ]
    }
   ],
   "source": [
    "# High learning rate making to reach the minima quickly\n",
    "minima, iterations = back_propagation(cur_x=0, lr=0.5, precision=0.00001, max_iters=10000)  \n",
    "print(\"The local minima occured at {} with iterations {}\" .format(minima, iterations)) "
   ]
  }
 ],
 "metadata": {
  "kernelspec": {
   "display_name": "Python 3",
   "language": "python",
   "name": "python3"
  },
  "language_info": {
   "codemirror_mode": {
    "name": "ipython",
    "version": 3
   },
   "file_extension": ".py",
   "mimetype": "text/x-python",
   "name": "python",
   "nbconvert_exporter": "python",
   "pygments_lexer": "ipython3",
   "version": "3.7.10"
  }
 },
 "nbformat": 4,
 "nbformat_minor": 5
}
